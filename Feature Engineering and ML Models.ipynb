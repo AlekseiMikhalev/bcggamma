{
 "cells": [
  {
   "cell_type": "code",
   "execution_count": 1,
   "metadata": {
    "collapsed": true
   },
   "outputs": [],
   "source": [
    "import pandas as pd\n",
    "import numpy as np\n",
    "import matplotlib.pyplot as plt\n",
    "import datetime"
   ]
  },
  {
   "cell_type": "code",
   "execution_count": 2,
   "metadata": {},
   "outputs": [
    {
     "name": "stdout",
     "output_type": "stream",
     "text": [
      "16096\n"
     ]
    }
   ],
   "source": [
    "# Load csv containing all the information to build the model on\n",
    "\n",
    "data1 = pd.read_csv(\"ml_case_training_data.csv\")\n",
    "data=data1\n",
    "data1.head()\n",
    "print(len(data1))"
   ]
  },
  {
   "cell_type": "code",
   "execution_count": 3,
   "metadata": {},
   "outputs": [
    {
     "name": "stdout",
     "output_type": "stream",
     "text": [
      "id                          16096\n",
      "activity_new                 6551\n",
      "campaign_disc_ele               0\n",
      "channel_sales               11878\n",
      "cons_12m                    16096\n",
      "cons_gas_12m                16096\n",
      "cons_last_month             16096\n",
      "date_activ                  16096\n",
      "date_end                    16094\n",
      "date_first_activ             3508\n",
      "date_modif_prod             15939\n",
      "date_renewal                16056\n",
      "forecast_base_bill_ele       3508\n",
      "forecast_base_bill_year      3508\n",
      "forecast_bill_12m            3508\n",
      "forecast_cons                3508\n",
      "forecast_cons_12m           16096\n",
      "forecast_cons_year          16096\n",
      "forecast_discount_energy    15970\n",
      "forecast_meter_rent_12m     16096\n",
      "forecast_price_energy_p1    15970\n",
      "forecast_price_energy_p2    15970\n",
      "forecast_price_pow_p1       15970\n",
      "has_gas                     16096\n",
      "imp_cons                    16096\n",
      "margin_gross_pow_ele        16083\n",
      "margin_net_pow_ele          16083\n",
      "nb_prod_act                 16096\n",
      "net_margin                  16081\n",
      "num_years_antig             16096\n",
      "origin_up                   16009\n",
      "pow_max                     16093\n",
      "dtype: int64\n"
     ]
    }
   ],
   "source": [
    "# Count number of unique values in each column of our training data. If there are \n",
    "# very few uniques, we might consider dropping the columns as that data might skew \n",
    "# our model. We do need to be careful about categorical data though, \n",
    "# i.e. we need to see what the data is before dropping the column.\n",
    "\n",
    "print(data1.apply(pd.Series.count))"
   ]
  },
  {
   "cell_type": "code",
   "execution_count": 4,
   "metadata": {},
   "outputs": [
    {
     "name": "stdout",
     "output_type": "stream",
     "text": [
      "Proportion of sales channels in existing dataset:\n",
      "\n",
      "\n",
      "foosdfpfkusacimwkcsosbicdxkicaua    0.621064\n",
      "lmkebamcaaclubfxadlmueccxoimlema    0.174524\n",
      "usilxuppasemubllopkaafesmlibmsdf    0.121569\n",
      "ewpakwlliwisiwduibdlfmalxowmwpci    0.081327\n",
      "sddiedcslfslkckwlfkdpoeeailfpeds    0.001010\n",
      "epumfxlbckeskwekxbiuasklxalciiuu    0.000337\n",
      "fixdbufsefwooaasfcxdxadsiekoceaa    0.000168\n",
      "Name: channel_sales, dtype: float64\n"
     ]
    }
   ],
   "source": [
    "# X will be the dataframe consisting all the features we want to train our models on. \n",
    "# We will begin by dropping certain columns that have a lot of empty/ missing values and \n",
    "# by adding values to columns that have some missing data.\n",
    "\n",
    "data1 = data1.drop(['id','activity_new','campaign_disc_ele','date_first_activ','forecast_base_bill_ele','forecast_base_bill_year','forecast_bill_12m','forecast_cons'],axis=1)\n",
    "\n",
    "# For channel sales, we need to add values to all the missing cells. To add values to\n",
    "# the missing cells, I first decide to see the proportion of existing sales channels. If\n",
    "# there is one sales channel that dominates then we can fill in the missing values with\n",
    "# that channel, otherwise we will have to fill it with a new string - \"unknown\".\n",
    "\n",
    "# Count of each value in column\n",
    "values = data1['channel_sales'].value_counts()\n",
    "\n",
    "# Total count of non-NaN values in column\n",
    "count = data1['channel_sales'].count()\n",
    "# diff = len(data1)-count\n",
    "\n",
    "# Number of NaN's to be filled with values\n",
    "print(\"Proportion of sales channels in existing dataset:\")\n",
    "print(\"\")\n",
    "print(\"\")\n",
    "print(values/count)\n",
    "\n",
    "# Although there is one channel that clearly dominates, there are 3 more that have a\n",
    "# considerable proportion in the dataset. I could randomly fill in the missing \n",
    "# values in the same proportion that exists in the training dataset. However, \n",
    "# that might skew the results. Hence, I will fill it in with \"unknown\".\n",
    "\n",
    "data1['channel_sales'].fillna('unknown',inplace=True)"
   ]
  },
  {
   "cell_type": "code",
   "execution_count": 5,
   "metadata": {
    "collapsed": true
   },
   "outputs": [],
   "source": [
    "# date_end, has two missing values, which I aim to infer by trying to understand \n",
    "# the median duration of a contract.\n",
    "\n",
    "# Convert elements of pandas series to datetime values\n",
    "\n",
    "data1[\"date_activation\"] = pd.to_datetime(data1[\"date_activ\"])\n",
    "data1[\"date_termination\"] = pd.to_datetime(data1[\"date_end\"])\n",
    "data1[\"date_modification\"]=pd.to_datetime(data1[\"date_modif_prod\"])\n",
    "data1[\"date_renew\"]=pd.to_datetime(data1[\"date_renewal\"])\n",
    "\n",
    "# Create a new column that is the difference between the termination date and activation date\n",
    "\n",
    "data1[\"contract_dur\"] = data1[\"date_termination\"]-data1[\"date_activation\"]\n",
    "contract_dur = data1[\"contract_dur\"]\n",
    "\n",
    "data1[\"modification_dur\"]=data1[\"date_modification\"]-data1[\"date_activation\"]\n",
    "modification_dur = data1[\"modification_dur\"]\n",
    "data1[\"renewal_dur\"]=data1[\"date_renew\"]-data1[\"date_activation\"]\n",
    "renewal_dur = data1[\"renewal_dur\"]\n",
    "\n",
    "# Get the mean duration of each contract\n",
    "\n",
    "mean_dur = contract_dur.mean()\n",
    "mean_mod_dur = modification_dur.mean()\n",
    "mean_renew_dur= renewal_dur.mean()\n",
    "\n",
    "\n",
    "# Get the indices of null values in the date_end column\n",
    "\n",
    "date_end_ind = data1[data1[\"date_end\"].isnull()].index.tolist()\n",
    "date_mod_ind = data1[data1[\"date_modif_prod\"].isnull()].index.tolist()\n",
    "date_renew_ind = data1[data1[\"date_renewal\"].isnull()].index.tolist()\n",
    "\n",
    "# Change series into lists in order to insert values at certain indices\n",
    "date_activation_list = data1[\"date_activation\"].tolist()\n",
    "date_end_list = data1[\"date_termination\"].tolist()\n",
    "date_mod_list = data1[\"date_modification\"].tolist()\n",
    "date_renew_list = data1[\"date_renew\"].tolist()\n",
    "\n",
    "# Change list to have median duration at the NaN indices\n",
    "\n",
    "for index in date_end_ind:\n",
    "    date_end_list[index]=date_activation_list[index]+mean_dur\n",
    "\n",
    "for index in date_mod_ind:\n",
    "    date_mod_list[index]=date_activation_list[index]+mean_mod_dur\n",
    "    \n",
    "for index in date_renew_ind:\n",
    "    date_renew_list[index]=date_activation_list[index]+mean_renew_dur\n",
    "\n",
    "for i in range(len(date_end_list)):\n",
    "    date_activation_list[i]=date_activation_list[i].value\n",
    "    date_end_list[i]=date_end_list[i].value\n",
    "    date_mod_list[i]=date_mod_list[i].value\n",
    "    date_renew_list[i]=date_renew_list[i].value\n",
    "\n",
    "# Convert list back into pandas series\n",
    "\n",
    "data1[\"date_activ\"]=pd.Series(date_activation_list)\n",
    "data1[\"date_end\"] = pd.Series(date_end_list)\n",
    "data1[\"date_modif_prod\"]=pd.Series(date_mod_list)\n",
    "data1[\"date_renewal\"]=pd.Series(date_renew_list)\n",
    "\n",
    "data1 = data1.drop(['date_activation','date_termination','date_modification','date_renew','contract_dur','modification_dur','renewal_dur'],axis=1)"
   ]
  },
  {
   "cell_type": "code",
   "execution_count": 6,
   "metadata": {},
   "outputs": [
    {
     "name": "stdout",
     "output_type": "stream",
     "text": [
      "0.9915466499686914\n",
      "0.13590059479022848\n",
      "0.05295074349405335\n",
      "43.533495800829066\n",
      "16096\n",
      "[]\n",
      "16096\n",
      "[]\n",
      "16096\n",
      "[]\n",
      "16096\n",
      "[]\n"
     ]
    }
   ],
   "source": [
    "# Time to look at forecast energy columns, i.e. forecast_discount_energy data, \n",
    "# forecast_price_energy_p1, forecast_price_energy_p2, and forecast_price_pow_p1 columns.\n",
    "\n",
    "# We will simply use the means of these columns to fill in the missing values\n",
    "\n",
    "avg1 = data1['forecast_discount_energy'].mean()\n",
    "print(avg1)\n",
    "avg2 = data1['forecast_price_energy_p1'].mean()\n",
    "print(avg2)\n",
    "avg3 = data1['forecast_price_energy_p2'].mean()\n",
    "print(avg3)\n",
    "avg4 = data1['forecast_price_pow_p1'].mean()\n",
    "print(avg4)\n",
    "\n",
    "# Add the mean values to the NaN's in the forecast energy columns and check whether \n",
    "# there are any NaN's still remaining\n",
    "\n",
    "data1['forecast_discount_energy'].fillna(avg1,inplace=True)\n",
    "\n",
    "print(data1['forecast_discount_energy'].count())\n",
    "print(data1[data1[\"forecast_discount_energy\"].isnull()].index.tolist())\n",
    "\n",
    "data1['forecast_price_energy_p1'].fillna(avg2,inplace=True)\n",
    "print(data1['forecast_price_energy_p1'].count())\n",
    "print(data1[data1[\"forecast_price_energy_p1\"].isnull()].index.tolist())\n",
    "\n",
    "data1['forecast_price_energy_p2'].fillna(avg3,inplace=True)\n",
    "print(data1['forecast_price_energy_p2'].count())\n",
    "print(data1[data1[\"forecast_price_energy_p2\"].isnull()].index.tolist())\n",
    "\n",
    "data1['forecast_price_pow_p1'].fillna(avg4,inplace=True)\n",
    "print(data1['forecast_price_pow_p1'].count())\n",
    "print(data1[data1[\"forecast_price_pow_p1\"].isnull()].index.tolist())"
   ]
  },
  {
   "cell_type": "code",
   "execution_count": 7,
   "metadata": {},
   "outputs": [
    {
     "name": "stdout",
     "output_type": "stream",
     "text": [
      "16083\n",
      "16083\n",
      "16081\n",
      "22.462276316607884\n",
      "21.460317726792518\n",
      "217.9870281698895\n",
      "16096\n",
      "[]\n",
      "16096\n",
      "[]\n",
      "16096\n",
      "[]\n"
     ]
    }
   ],
   "source": [
    "# The next columns we will consider are margin_gross_pow_ele, margin_net_pow_ele \n",
    "# and net_margin\n",
    "\n",
    "gross_mar_elc = data1[\"margin_gross_pow_ele\"]\n",
    "net_mar_elc = data1[\"margin_net_pow_ele\"]\n",
    "net_mar = data1[\"net_margin\"]\n",
    "\n",
    "# Count of non-NaN's in each column\n",
    "print(gross_mar_elc.count())\n",
    "print(net_mar_elc.count())\n",
    "print(net_mar.count())\n",
    "\n",
    "# Repeat process for forecasted energy columns by getting the means and replacing NaN \n",
    "# with the respective means. Then check to see if the NaN's have in fact been replaced.\n",
    "avg1 = gross_mar_elc.mean()\n",
    "print(avg1)\n",
    "avg2 = net_mar_elc.mean()\n",
    "print(avg2)\n",
    "avg3 = net_mar.mean()\n",
    "print(avg3)\n",
    "\n",
    "data1[\"margin_gross_pow_ele\"].fillna(avg1,inplace=True)\n",
    "print(data1[\"margin_gross_pow_ele\"].count())\n",
    "print(data1[data1[\"margin_gross_pow_ele\"].isnull()].index.tolist())\n",
    "\n",
    "data1[\"margin_net_pow_ele\"].fillna(avg2,inplace=True)\n",
    "print(data1[\"margin_net_pow_ele\"].count())\n",
    "print(data1[data1[\"margin_net_pow_ele\"].isnull()].index.tolist())\n",
    "\n",
    "data1[\"net_margin\"].fillna(avg3,inplace=True)\n",
    "print(data1[\"net_margin\"].count())\n",
    "print(data1[data1[\"net_margin\"].isnull()].index.tolist())"
   ]
  },
  {
   "cell_type": "code",
   "execution_count": 8,
   "metadata": {},
   "outputs": [
    {
     "name": "stdout",
     "output_type": "stream",
     "text": [
      "Proportion of campaigns first subscribed to in existing dataset:\n",
      "\n",
      "\n",
      "lxidpiddsbxsbosboudacockeimpuepw    0.488788\n",
      "kamkkxfxxuwbdslkwifmmcsiusiuosws    0.282154\n",
      "ldkssxwpmemidmecebumciepifcamkci    0.228871\n",
      "usapbepcfoloekilkwsdiboslwaxobdp    0.000125\n",
      "ewxeelcelemmiwuafmddpobolfuxioce    0.000062\n",
      "Name: origin_up, dtype: float64\n"
     ]
    }
   ],
   "source": [
    "# Now we will look at the orgin_up column\n",
    "\n",
    "# Count of each value in column\n",
    "values = data1['origin_up'].value_counts()\n",
    "\n",
    "# Total count of non-NaN values in column\n",
    "count = data1['origin_up'].count()\n",
    "\n",
    "# Number of NaN's to be filled with values\n",
    "print(\"Proportion of campaigns first subscribed to in existing dataset:\")\n",
    "print(\"\")\n",
    "print(\"\")\n",
    "print(values/count)\n",
    "\n",
    "# As we can see there are 5 different campaigns that customers subscribe to, with 3 \n",
    "# campaigns accounting for more than 99% of the campaigns. However, similar to\n",
    "# the trouble behind filling missing values in the channel_sales column, we will\n",
    "# fill in missing values in origin_up with \"unknown\"\n",
    "\n",
    "data1['origin_up'].fillna('unknown',inplace=True)"
   ]
  },
  {
   "cell_type": "code",
   "execution_count": 9,
   "metadata": {},
   "outputs": [
    {
     "name": "stdout",
     "output_type": "stream",
     "text": [
      "13.856\n",
      "16096\n",
      "[]\n"
     ]
    }
   ],
   "source": [
    "# Lastly, we will add values to the missing values of pow_max\n",
    "\n",
    "# Here, we will look at the median value and add the median to the missing values. \n",
    "# This is because the mean is likely to get swayed by certain big medium sized \n",
    "# enterprises who might subscribe to very high power levels.\n",
    "\n",
    "sub_power = data1[\"pow_max\"].sort_values()\n",
    "median = sub_power.median()\n",
    "print(median)\n",
    "\n",
    "data1[\"pow_max\"].fillna(median,inplace=True)\n",
    "print(data1[\"pow_max\"].count())\n",
    "print(data1[data1[\"pow_max\"].isnull()].index.tolist())"
   ]
  },
  {
   "cell_type": "code",
   "execution_count": 10,
   "metadata": {
    "collapsed": true
   },
   "outputs": [],
   "source": [
    "# We have to apply the same changes to our test data as well, which\n",
    "# is relatively straightforward as it involves repeating the same code\n",
    "# as above but for the test data."
   ]
  },
  {
   "cell_type": "code",
   "execution_count": 11,
   "metadata": {
    "collapsed": true
   },
   "outputs": [],
   "source": [
    "data2 = pd.read_csv(\"ml_case_test_data.csv\")\n",
    "X = data1\n",
    "\n",
    "# Convert elements of pandas series to datetime values\n",
    "data2[\"date_activation\"] = pd.to_datetime(data2[\"date_activ\"])\n",
    "data2[\"date_termination\"] = pd.to_datetime(data2[\"date_end\"])\n",
    "data2[\"date_modification\"]=pd.to_datetime(data2[\"date_modif_prod\"])\n",
    "data2[\"date_renew\"]=pd.to_datetime(data2[\"date_renewal\"])\n",
    "\n",
    "# Create a new column that is the difference between the termination date and activation date\n",
    "data2[\"contract_dur\"] = data2[\"date_termination\"]-data2[\"date_activation\"]\n",
    "contract_dur = data2[\"contract_dur\"]\n",
    "\n",
    "data2[\"modification_dur\"]=data2[\"date_modification\"]-data2[\"date_activation\"]\n",
    "modification_dur = data2[\"modification_dur\"]\n",
    "data2[\"renewal_dur\"]=data2[\"date_renew\"]-data2[\"date_activation\"]\n",
    "renewal_dur = data2[\"renewal_dur\"]\n",
    "\n",
    "# Get the mean duration of each contract\n",
    "mean_dur = contract_dur.mean()\n",
    "mean_mod_dur = modification_dur.mean()\n",
    "mean_renew_dur= renewal_dur.mean()\n",
    "\n",
    "\n",
    "# Get the indices of null values in the date_end column\n",
    "\n",
    "date_end_ind = data1[data1[\"date_end\"].isnull()].index.tolist()\n",
    "date_mod_ind = data1[data1[\"date_modif_prod\"].isnull()].index.tolist()\n",
    "date_renew_ind = data1[data1[\"date_renewal\"].isnull()].index.tolist()\n",
    "\n",
    "\n",
    "# Change series into lists in order to insert values at certain indices\n",
    "date_activation_list = data2[\"date_activation\"].tolist()\n",
    "date_end_list = data2[\"date_termination\"].tolist()\n",
    "date_mod_list = data2[\"date_modification\"].tolist()\n",
    "date_renew_list = data2[\"date_renew\"].tolist()\n",
    "\n",
    "# Change list to have median duration at the NaN indices\n",
    "for index in date_end_ind:\n",
    "    date_end_list[index]=date_activation_list[index]+mean_dur\n",
    "\n",
    "for index in date_mod_ind:\n",
    "    date_mod_list[index]=date_activation_list[index]+mean_mod_dur\n",
    "    \n",
    "for index in date_renew_ind:\n",
    "    date_renew_list[index]=date_activation_list[index]+mean_renew_dur\n",
    "\n",
    "for i in range(len(date_end_list)):\n",
    "    date_activation_list[i]=date_activation_list[i].value\n",
    "    date_end_list[i]=date_end_list[i].value\n",
    "    date_mod_list[i]=date_mod_list[i].value\n",
    "    date_renew_list[i]=date_renew_list[i].value\n",
    "\n",
    "# Convert list back into pandas series\n",
    "data2[\"date_activ\"]=pd.Series(date_activation_list)\n",
    "data2[\"date_end\"] = pd.Series(date_end_list)\n",
    "data2[\"date_modif_prod\"]=pd.Series(date_mod_list)\n",
    "data2[\"date_renewal\"]=pd.Series(date_renew_list)\n",
    "\n",
    "data2 = data2.drop(['date_activation','date_termination','date_modification','date_renew','contract_dur','modification_dur','renewal_dur'],axis=1)\n",
    "X_test_id = data2['id']"
   ]
  },
  {
   "cell_type": "code",
   "execution_count": 12,
   "metadata": {
    "collapsed": true
   },
   "outputs": [],
   "source": [
    "avg1 = data2['forecast_discount_energy'].mean()\n",
    "avg2 = data2['forecast_price_energy_p1'].mean()\n",
    "avg3 = data2['forecast_price_energy_p2'].mean()\n",
    "avg4 = data2['forecast_price_pow_p1'].mean()\n",
    "\n",
    "data2['forecast_discount_energy'].fillna(avg1,inplace=True)\n",
    "data2['forecast_price_energy_p1'].fillna(avg2,inplace=True)\n",
    "data2['forecast_price_energy_p2'].fillna(avg3,inplace=True)\n",
    "data2['forecast_price_pow_p1'].fillna(avg4,inplace=True)\n",
    "\n",
    "gross_mar_elc = data1[\"margin_gross_pow_ele\"]\n",
    "net_mar_elc = data1[\"margin_net_pow_ele\"]\n",
    "net_mar = data1[\"net_margin\"]\n",
    "\n",
    "avg5 = gross_mar_elc.mean()\n",
    "avg6 = net_mar_elc.mean()\n",
    "avg7 = net_mar.mean()\n",
    "\n",
    "data2[\"margin_gross_pow_ele\"].fillna(avg5,inplace=True)\n",
    "data2[\"margin_net_pow_ele\"].fillna(avg6,inplace=True)\n",
    "data2[\"net_margin\"].fillna(avg7,inplace=True)\n",
    "\n",
    "sub_power = data1[\"pow_max\"].sort_values()\n",
    "median = sub_power.median()\n",
    "\n",
    "data2[\"pow_max\"].fillna(median,inplace=True)\n",
    "\n",
    "X2 = data2.drop(['id','activity_new','campaign_disc_ele','date_first_activ','forecast_base_bill_ele','forecast_base_bill_year','forecast_bill_12m','forecast_cons'],axis=1)"
   ]
  },
  {
   "cell_type": "code",
   "execution_count": 13,
   "metadata": {},
   "outputs": [
    {
     "name": "stdout",
     "output_type": "stream",
     "text": [
      "channel_sales               16096\n",
      "cons_12m                    16096\n",
      "cons_gas_12m                16096\n",
      "cons_last_month             16096\n",
      "date_activ                  16096\n",
      "date_end                    16096\n",
      "date_modif_prod             16096\n",
      "date_renewal                16096\n",
      "forecast_cons_12m           16096\n",
      "forecast_cons_year          16096\n",
      "forecast_discount_energy    16096\n",
      "forecast_meter_rent_12m     16096\n",
      "forecast_price_energy_p1    16096\n",
      "forecast_price_energy_p2    16096\n",
      "forecast_price_pow_p1       16096\n",
      "has_gas                     16096\n",
      "imp_cons                    16096\n",
      "margin_gross_pow_ele        16096\n",
      "margin_net_pow_ele          16096\n",
      "nb_prod_act                 16096\n",
      "net_margin                  16096\n",
      "num_years_antig             16096\n",
      "origin_up                   16096\n",
      "pow_max                     16096\n",
      "dtype: int64\n"
     ]
    }
   ],
   "source": [
    "# We now have no missing values for any column that we will train our models on. \n",
    "# However, we still have to convert certain categorical data into numerical data,\n",
    "# so that our models can learn from them. In particular, we want to one-hot-encode\n",
    "# categorical data.\n",
    "\n",
    "print(data1.apply(pd.Series.count))"
   ]
  },
  {
   "cell_type": "code",
   "execution_count": 14,
   "metadata": {},
   "outputs": [
    {
     "name": "stdout",
     "output_type": "stream",
     "text": [
      "Series([], dtype: bool)\n"
     ]
    }
   ],
   "source": [
    "# We have to one-hot-encode both the training and test data\n",
    "\n",
    "X_copy = X\n",
    "X_test_copy = X2\n",
    "\n",
    "X_copy['label']='train'\n",
    "X_test_copy['label']='test'\n",
    "\n",
    "concat_X = pd.concat([X_copy,X_test_copy])\n",
    "one_hot = pd.get_dummies(concat_X,columns=['channel_sales','has_gas','origin_up'])\n",
    "\n",
    "X_copy = one_hot[one_hot['label']=='train']\n",
    "X_test_copy = one_hot[one_hot['label']=='test']\n",
    "\n",
    "X_copy = X_copy.drop('label',axis=1)\n",
    "X_test_copy = X_test_copy.drop('label',axis=1)\n",
    "\n",
    "X_train = X_copy\n",
    "X_test = X_test_copy\n",
    "\n",
    "X_null = X_test.isnull().unstack()\n",
    "t = X_null[X_null]\n",
    "print(t)"
   ]
  },
  {
   "cell_type": "code",
   "execution_count": 15,
   "metadata": {},
   "outputs": [
    {
     "data": {
      "text/html": [
       "<div>\n",
       "<style>\n",
       "    .dataframe thead tr:only-child th {\n",
       "        text-align: right;\n",
       "    }\n",
       "\n",
       "    .dataframe thead th {\n",
       "        text-align: left;\n",
       "    }\n",
       "\n",
       "    .dataframe tbody tr th {\n",
       "        vertical-align: top;\n",
       "    }\n",
       "</style>\n",
       "<table border=\"1\" class=\"dataframe\">\n",
       "  <thead>\n",
       "    <tr style=\"text-align: right;\">\n",
       "      <th></th>\n",
       "      <th>id</th>\n",
       "      <th>churn</th>\n",
       "    </tr>\n",
       "  </thead>\n",
       "  <tbody>\n",
       "    <tr>\n",
       "      <th>0</th>\n",
       "      <td>48ada52261e7cf58715202705a0451c9</td>\n",
       "      <td>0</td>\n",
       "    </tr>\n",
       "    <tr>\n",
       "      <th>1</th>\n",
       "      <td>24011ae4ebbe3035111d65fa7c15bc57</td>\n",
       "      <td>1</td>\n",
       "    </tr>\n",
       "    <tr>\n",
       "      <th>2</th>\n",
       "      <td>d29c2c54acc38ff3c0614d0a653813dd</td>\n",
       "      <td>0</td>\n",
       "    </tr>\n",
       "    <tr>\n",
       "      <th>3</th>\n",
       "      <td>764c75f661154dac3a6c254cd082ea7d</td>\n",
       "      <td>0</td>\n",
       "    </tr>\n",
       "    <tr>\n",
       "      <th>4</th>\n",
       "      <td>bba03439a292a1e166f80264c16191cb</td>\n",
       "      <td>0</td>\n",
       "    </tr>\n",
       "  </tbody>\n",
       "</table>\n",
       "</div>"
      ],
      "text/plain": [
       "                                 id  churn\n",
       "0  48ada52261e7cf58715202705a0451c9      0\n",
       "1  24011ae4ebbe3035111d65fa7c15bc57      1\n",
       "2  d29c2c54acc38ff3c0614d0a653813dd      0\n",
       "3  764c75f661154dac3a6c254cd082ea7d      0\n",
       "4  bba03439a292a1e166f80264c16191cb      0"
      ]
     },
     "execution_count": 15,
     "metadata": {},
     "output_type": "execute_result"
    }
   ],
   "source": [
    "# Load the csv containing the churned customer ids training data\n",
    "\n",
    "data3 = pd.read_csv(\"ml_case_training_output.csv\")\n",
    "data3.head()"
   ]
  },
  {
   "cell_type": "code",
   "execution_count": 16,
   "metadata": {
    "collapsed": true
   },
   "outputs": [],
   "source": [
    "#  Let X be the features dataset that we want our model to learn on and let \n",
    "# y be the churned column which is what we want our model to train on\n",
    "y_train = data3[\"churn\"]"
   ]
  },
  {
   "cell_type": "code",
   "execution_count": 17,
   "metadata": {},
   "outputs": [
    {
     "name": "stderr",
     "output_type": "stream",
     "text": [
      "/Users/samarthgoenka/anaconda3/lib/python3.6/site-packages/sklearn/cross_validation.py:41: DeprecationWarning: This module was deprecated in version 0.18 in favor of the model_selection module into which all the refactored classes and functions are moved. Also note that the interface of the new CV iterators are different from that of this module. This module will be removed in 0.20.\n",
      "  \"This module will be removed in 0.20.\", DeprecationWarning)\n"
     ]
    }
   ],
   "source": [
    "from sklearn import metrics\n",
    "from sklearn.tree import DecisionTreeClassifier\n",
    "from sklearn.linear_model import LogisticRegression\n",
    "from sklearn.ensemble import RandomForestClassifier\n",
    "from sklearn.ensemble import AdaBoostClassifier\n",
    "from sklearn.ensemble import BaggingClassifier\n",
    "from sklearn.ensemble import VotingClassifier\n",
    "from sklearn.model_selection import cross_val_score, RandomizedSearchCV, GridSearchCV\n",
    "from sklearn.cross_validation import train_test_split\n",
    "import time\n",
    "from sklearn.metrics import roc_curve, auc"
   ]
  },
  {
   "cell_type": "code",
   "execution_count": 18,
   "metadata": {},
   "outputs": [
    {
     "data": {
      "text/plain": [
       "AdaBoostClassifier(algorithm='SAMME.R',\n",
       "          base_estimator=RandomForestClassifier(bootstrap=True, class_weight=None, criterion='gini',\n",
       "            max_depth=None, max_features='auto', max_leaf_nodes=None,\n",
       "            min_impurity_decrease=0.0, min_impurity_split=None,\n",
       "            min_samples_leaf=1, min_samples_split=2,\n",
       "            min_weight_fraction_leaf=0.0, n_estimators=10, n_jobs=1,\n",
       "            oob_score=False, random_state=None, verbose=0,\n",
       "            warm_start=False),\n",
       "          learning_rate=1.0, n_estimators=50, random_state=None)"
      ]
     },
     "execution_count": 18,
     "metadata": {},
     "output_type": "execute_result"
    }
   ],
   "source": [
    "# Start building ML models. I will use Decision Tree, Bagging Classifier,\n",
    "# Logistic Regression, Random Forest, Adaptive Boosting, and finally a \n",
    "# Voting Classifier that incorporates the best of these models.\n",
    "\n",
    "tc = DecisionTreeClassifier()\n",
    "tc.fit(X_train,y_train)\n",
    "\n",
    "bag = BaggingClassifier(base_estimator=tc)\n",
    "bag.fit(X_train,y_train)\n",
    "\n",
    "log = LogisticRegression()\n",
    "log.fit(X_train,y_train)\n",
    "\n",
    "rf = RandomForestClassifier()\n",
    "rf.fit(X_train,y_train)\n",
    "\n",
    "ada = AdaBoostClassifier(base_estimator=rf)\n",
    "ada.fit(X_train,y_train)"
   ]
  },
  {
   "cell_type": "code",
   "execution_count": 19,
   "metadata": {},
   "outputs": [
    {
     "name": "stdout",
     "output_type": "stream",
     "text": [
      "1.3874471187591553\n",
      "1.0134069919586182\n",
      "3.575137138366699\n",
      "3.1720669269561768\n",
      "6.4814229011535645\n"
     ]
    }
   ],
   "source": [
    "# Optimize classifiers\n",
    "\n",
    "start = time.time()\n",
    "\n",
    "tc = DecisionTreeClassifier(max_depth=4)\n",
    "tc.fit(X_train,y_train)\n",
    "\n",
    "params = {'max_depth':[2,4,8]}\n",
    "\n",
    "tcgrid = GridSearchCV(estimator=tc,param_grid=params,cv=5,scoring='accuracy')\n",
    "tcgrid.fit(X_train,y_train)\n",
    "\n",
    "end = time.time()\n",
    "print(end-start)\n",
    "start = time.time()\n",
    "\n",
    "params = {'C':[0.01,0.1,1,10]}\n",
    "\n",
    "loggrid = RandomizedSearchCV(estimator=log,param_distributions=params,cv=5,scoring='accuracy',n_iter=3)\n",
    "loggrid.fit(X_train,y_train)\n",
    "\n",
    "end = time.time()\n",
    "print(end-start)\n",
    "start = time.time()\n",
    "\n",
    "rf = RandomForestClassifier(max_depth=4)\n",
    "rf.fit(X_train,y_train)\n",
    "\n",
    "params = {'max_depth': [8, 16, 32], 'min_samples_leaf':[2, 4, 8]}\n",
    "\n",
    "rfgrid = RandomizedSearchCV(estimator=rf,param_distributions=params,cv=5,scoring='accuracy',n_iter=3)\n",
    "rfgrid.fit(X_train,y_train)\n",
    "\n",
    "end = time.time()\n",
    "print(end-start)\n",
    "start = time.time()\n",
    "\n",
    "bag = BaggingClassifier(base_estimator=tcgrid.best_estimator_,n_estimators=2)\n",
    "bag.fit(X_train,y_train)\n",
    "\n",
    "params = {'base_estimator':[tcgrid.best_estimator_,rfgrid.best_estimator_],'n_estimators':[2,3,4]}\n",
    "\n",
    "baggrid = RandomizedSearchCV(estimator=bag,param_distributions=params,cv=5,scoring='accuracy',n_iter=3)\n",
    "baggrid.fit(X_train,y_train)\n",
    "\n",
    "end = time.time()\n",
    "print(end-start)\n",
    "start = time.time()\n",
    "\n",
    "abc = AdaBoostClassifier(base_estimator=rfgrid.best_estimator_,n_estimators=4)\n",
    "abc.fit(X_train,y_train)\n",
    "\n",
    "params = {'base_estimator':[tcgrid.best_estimator_,rfgrid.best_estimator_],'n_estimators':[2,3,4]}\n",
    "\n",
    "abcgrid = RandomizedSearchCV(estimator = abc, param_distributions= params, cv=5, scoring='accuracy',n_iter=3)\n",
    "abcgrid.fit(X_train,y_train)\n",
    "\n",
    "end = time.time()\n",
    "print(end-start)"
   ]
  },
  {
   "cell_type": "code",
   "execution_count": 20,
   "metadata": {},
   "outputs": [
    {
     "data": {
      "image/png": "[encoded data removed]",
      "text/plain": [
       "<matplotlib.figure.Figure at 0x10d462390>"
      ]
     },
     "metadata": {},
     "output_type": "display_data"
    },
    {
     "data": {
      "image/png": "[encoded data removed]",
      "text/plain": [
       "<matplotlib.figure.Figure at 0x10d487160>"
      ]
     },
     "metadata": {},
     "output_type": "display_data"
    },
    {
     "data": {
      "image/png": "[encoded data removed]",
      "text/plain": [
       "<matplotlib.figure.Figure at 0x10d4e12b0>"
      ]
     },
     "metadata": {},
     "output_type": "display_data"
    },
    {
     "data": {
      "image/png": "[encoded data removed]",
      "text/plain": [
       "<matplotlib.figure.Figure at 0x1a18a1f278>"
      ]
     },
     "metadata": {},
     "output_type": "display_data"
    },
    {
     "data": {
      "image/png": "[encoded data removed]",
      "text/plain": [
       "<matplotlib.figure.Figure at 0x10d5eee80>"
      ]
     },
     "metadata": {},
     "output_type": "display_data"
    }
   ],
   "source": [
    "# Plot ROC curves to see how well each model is predicting the training data\n",
    "\n",
    "X_train_roc, X_test_roc,y_train_roc, y_test_roc = train_test_split(X_train,y_train,test_size=0.2,random_state=73)\n",
    "\n",
    "actual = y_test_roc\n",
    "\n",
    "y_pred = tcgrid.predict_proba(X_test_roc)\n",
    "predictions = y_pred[:,1]\n",
    "\n",
    "false_positive_rate, true_positive_rate, thresholds = roc_curve(actual, predictions)\n",
    "roc_auc = auc(false_positive_rate, true_positive_rate)\n",
    "\n",
    "plt.title('TC ROC')\n",
    "plt.plot(false_positive_rate, true_positive_rate, 'b',\n",
    "label='AUC = %0.2f'% roc_auc)\n",
    "plt.legend(loc='lower right')\n",
    "plt.plot([0,1],[0,1],'r--')\n",
    "plt.xlim([-0.1,1.2])\n",
    "plt.ylim([-0.1,1.2])\n",
    "plt.ylabel('True Positive Rate')\n",
    "plt.xlabel('False Positive Rate')\n",
    "plt.show()\n",
    "\n",
    "y_pred = loggrid.predict_proba(X_test_roc)\n",
    "predictions = y_pred[:,1]\n",
    "\n",
    "false_positive_rate, true_positive_rate, thresholds = roc_curve(actual, predictions)\n",
    "roc_auc = auc(false_positive_rate, true_positive_rate)\n",
    "\n",
    "plt.title('LOG ROC')\n",
    "plt.plot(false_positive_rate, true_positive_rate, 'b',\n",
    "label='AUC = %0.2f'% roc_auc)\n",
    "plt.legend(loc='lower right')\n",
    "plt.plot([0,1],[0,1],'r--')\n",
    "plt.xlim([-0.1,1.2])\n",
    "plt.ylim([-0.1,1.2])\n",
    "plt.ylabel('True Positive Rate')\n",
    "plt.xlabel('False Positive Rate')\n",
    "plt.show()\n",
    "\n",
    "y_pred = rfgrid.predict_proba(X_test_roc)\n",
    "predictions = y_pred[:,1]\n",
    "\n",
    "false_positive_rate, true_positive_rate, thresholds = roc_curve(actual, predictions)\n",
    "roc_auc = auc(false_positive_rate, true_positive_rate)\n",
    "\n",
    "plt.title('RF ROC')\n",
    "plt.plot(false_positive_rate, true_positive_rate, 'b',\n",
    "label='AUC = %0.2f'% roc_auc)\n",
    "plt.legend(loc='lower right')\n",
    "plt.plot([0,1],[0,1],'r--')\n",
    "plt.xlim([-0.1,1.2])\n",
    "plt.ylim([-0.1,1.2])\n",
    "plt.ylabel('True Positive Rate')\n",
    "plt.xlabel('False Positive Rate')\n",
    "plt.show()\n",
    "\n",
    "y_pred = baggrid.predict_proba(X_test_roc)\n",
    "predictions = y_pred[:,1]\n",
    "\n",
    "false_positive_rate, true_positive_rate, thresholds = roc_curve(actual, predictions)\n",
    "roc_auc = auc(false_positive_rate, true_positive_rate)\n",
    "\n",
    "plt.title('BAG ROC')\n",
    "plt.plot(false_positive_rate, true_positive_rate, 'b',\n",
    "label='AUC = %0.2f'% roc_auc)\n",
    "plt.legend(loc='lower right')\n",
    "plt.plot([0,1],[0,1],'r--')\n",
    "plt.xlim([-0.1,1.2])\n",
    "plt.ylim([-0.1,1.2])\n",
    "plt.ylabel('True Positive Rate')\n",
    "plt.xlabel('False Positive Rate')\n",
    "plt.show()\n",
    "\n",
    "y_pred = abcgrid.predict_proba(X_test_roc)\n",
    "predictions = y_pred[:,1]\n",
    "\n",
    "false_positive_rate, true_positive_rate, thresholds = roc_curve(actual, predictions)\n",
    "roc_auc = auc(false_positive_rate, true_positive_rate)\n",
    "\n",
    "plt.title('ABC ROC')\n",
    "plt.plot(false_positive_rate, true_positive_rate, 'b',\n",
    "label='AUC = %0.2f'% roc_auc)\n",
    "plt.legend(loc='lower right')\n",
    "plt.plot([0,1],[0,1],'r--')\n",
    "plt.xlim([-0.1,1.2])\n",
    "plt.ylim([-0.1,1.2])\n",
    "plt.ylabel('True Positive Rate')\n",
    "plt.xlabel('False Positive Rate')\n",
    "plt.show()"
   ]
  },
  {
   "cell_type": "code",
   "execution_count": 21,
   "metadata": {},
   "outputs": [
    {
     "name": "stdout",
     "output_type": "stream",
     "text": [
      "RandomForestClassifier(bootstrap=True, class_weight=None, criterion='gini',\n",
      "            max_depth=32, max_features='auto', max_leaf_nodes=None,\n",
      "            min_impurity_decrease=0.0, min_impurity_split=None,\n",
      "            min_samples_leaf=2, min_samples_split=2,\n",
      "            min_weight_fraction_leaf=0.0, n_estimators=10, n_jobs=1,\n",
      "            oob_score=False, random_state=None, verbose=0,\n",
      "            warm_start=False)\n",
      "BaggingClassifier(base_estimator=RandomForestClassifier(bootstrap=True, class_weight=None, criterion='gini',\n",
      "            max_depth=32, max_features='auto', max_leaf_nodes=None,\n",
      "            min_impurity_decrease=0.0, min_impurity_split=None,\n",
      "            min_samples_leaf=2, min_samples_split=2,\n",
      "            min_weight_fraction_leaf=0.0, n_estimators=10, n_jobs=1,\n",
      "            oob_score=False, random_state=None, verbose=0,\n",
      "            warm_start=False),\n",
      "         bootstrap=True, bootstrap_features=False, max_features=1.0,\n",
      "         max_samples=1.0, n_estimators=2, n_jobs=1, oob_score=False,\n",
      "         random_state=None, verbose=0, warm_start=False)\n",
      "AdaBoostClassifier(algorithm='SAMME.R',\n",
      "          base_estimator=RandomForestClassifier(bootstrap=True, class_weight=None, criterion='gini',\n",
      "            max_depth=32, max_features='auto', max_leaf_nodes=None,\n",
      "            min_impurity_decrease=0.0, min_impurity_split=None,\n",
      "            min_samples_leaf=2, min_samples_split=2,\n",
      "            min_weight_fraction_leaf=0.0, n_estimators=10, n_jobs=1,\n",
      "            oob_score=False, random_state=None, verbose=0,\n",
      "            warm_start=False),\n",
      "          learning_rate=1.0, n_estimators=2, random_state=None)\n"
     ]
    }
   ],
   "source": [
    "# We can see that the log classifier is not predicting the data well. Hence, we will get rid\n",
    "# of it, and instead just use a random forest with the adaptive boosting. We will continue\n",
    "# with the best estimators of each of the classifiers.\n",
    "\n",
    "rfgrid_best = rfgrid.best_estimator_\n",
    "baggrid_best = baggrid.best_estimator_\n",
    "abcgrid_best = abcgrid.best_estimator_\n",
    "\n",
    "print(rfgrid_best)\n",
    "print(baggrid_best)\n",
    "print(abcgrid_best)"
   ]
  },
  {
   "cell_type": "code",
   "execution_count": 22,
   "metadata": {},
   "outputs": [
    {
     "name": "stdout",
     "output_type": "stream",
     "text": [
      "Fitting 5 folds for each of 5 candidates, totalling 25 fits\n"
     ]
    },
    {
     "name": "stderr",
     "output_type": "stream",
     "text": [
      "[Parallel(n_jobs=1)]: Done  25 out of  25 | elapsed:   47.2s finished\n"
     ]
    },
    {
     "data": {
      "text/plain": [
       "RandomizedSearchCV(cv=5, error_score='raise',\n",
       "          estimator=VotingClassifier(estimators=[('RF', RandomForestClassifier(bootstrap=True, class_weight=None, criterion='gini',\n",
       "            max_depth=32, max_features='auto', max_leaf_nodes=None,\n",
       "            min_impurity_decrease=0.0, min_impurity_split=None,\n",
       "            min_samples_leaf=2, min_samples_sp...ors=2, random_state=None))],\n",
       "         flatten_transform=None, n_jobs=1, voting='soft', weights=None),\n",
       "          fit_params=None, iid=True, n_iter=5, n_jobs=1,\n",
       "          param_distributions={'RF__max_depth': [4, 8], 'RF__min_samples_leaf': [3, 4], 'BAG__n_estimators': [3, 4], 'AB__n_estimators': [3, 4]},\n",
       "          pre_dispatch='2*n_jobs', random_state=1, refit=True,\n",
       "          return_train_score='warn', scoring='accuracy', verbose=1)"
      ]
     },
     "execution_count": 22,
     "metadata": {},
     "output_type": "execute_result"
    }
   ],
   "source": [
    "# Create a voting classifier that uses multiple classifiers\n",
    "\n",
    "vclf = VotingClassifier(estimators=[('RF', rfgrid_best), ('BAG', baggrid_best), ('AB', abcgrid_best)],\n",
    "                        voting='soft')\n",
    "\n",
    "params = {\n",
    "  'RF__max_depth': [4, 8], 'RF__min_samples_leaf':[3, 4],\n",
    "  'BAG__n_estimators':[3,4],\n",
    "  'AB__n_estimators':[3,4]}\n",
    "\n",
    "allgrid = RandomizedSearchCV(estimator=vclf, param_distributions=params, cv=5, \n",
    "                             scoring = 'accuracy',\n",
    "                             random_state=1, verbose=1, n_iter=5)\n",
    "\n",
    "allgrid.fit(X_train,y_train)"
   ]
  },
  {
   "cell_type": "code",
   "execution_count": 23,
   "metadata": {},
   "outputs": [
    {
     "data": {
      "image/png": "[encoded data removed]",
      "text/plain": [
       "<matplotlib.figure.Figure at 0x1a189764a8>"
      ]
     },
     "metadata": {},
     "output_type": "display_data"
    }
   ],
   "source": [
    "y_pred = allgrid.predict_proba(X_test_roc)\n",
    "predictions = y_pred[:,1]\n",
    "\n",
    "false_positive_rate, true_positive_rate, thresholds = roc_curve(actual, predictions)\n",
    "roc_auc = auc(false_positive_rate, true_positive_rate)\n",
    "\n",
    "plt.title('VOTING ROC')\n",
    "plt.plot(false_positive_rate, true_positive_rate, 'b',\n",
    "label='AUC = %0.2f'% roc_auc)\n",
    "plt.legend(loc='lower right')\n",
    "plt.plot([0,1],[0,1],'r--')\n",
    "plt.xlim([-0.1,1.2])\n",
    "plt.ylim([-0.1,1.2])\n",
    "plt.ylabel('True Positive Rate')\n",
    "plt.xlabel('False Positive Rate')\n",
    "plt.show()"
   ]
  },
  {
   "cell_type": "code",
   "execution_count": 24,
   "metadata": {},
   "outputs": [
    {
     "name": "stdout",
     "output_type": "stream",
     "text": [
      "Feature importance:\n",
      "\n",
      "                                           Feature  Importance\n",
      "16                              margin_net_pow_ele    0.195327\n",
      "15                            margin_gross_pow_ele    0.129410\n",
      "3                                       date_activ    0.088858\n",
      "35      origin_up_lxidpiddsbxsbosboudacockeimpuepw    0.072867\n",
      "2                                  cons_last_month    0.068439\n",
      "6                                     date_renewal    0.065548\n",
      "10                         forecast_meter_rent_12m    0.064408\n",
      "24  channel_sales_foosdfpfkusacimwkcsosbicdxkicaua    0.039183\n",
      "18                                      net_margin    0.036204\n",
      "0                                         cons_12m    0.034778\n",
      "19                                 num_years_antig    0.034065\n",
      "11                        forecast_price_energy_p1    0.030318\n",
      "20                                         pow_max    0.022780\n",
      "33      origin_up_kamkkxfxxuwbdslkwifmmcsiusiuosws    0.018741\n",
      "14                                        imp_cons    0.018218\n",
      "4                                         date_end    0.018001\n",
      "5                                  date_modif_prod    0.015139\n",
      "7                                forecast_cons_12m    0.013133\n",
      "8                               forecast_cons_year    0.010551\n",
      "12                        forecast_price_energy_p2    0.008491\n",
      "1                                     cons_gas_12m    0.008057\n",
      "17                                     nb_prod_act    0.003887\n",
      "25  channel_sales_lmkebamcaaclubfxadlmueccxoimlema    0.002034\n",
      "13                           forecast_price_pow_p1    0.001564\n",
      "30                                       has_gas_t    0.000000\n",
      "36                               origin_up_unknown    0.000000\n",
      "34      origin_up_ldkssxwpmemidmecebumciepifcamkci    0.000000\n",
      "9                         forecast_discount_energy    0.000000\n",
      "32      origin_up_ewxeelcelemmiwuafmddpobolfuxioce    0.000000\n",
      "31      origin_up_aabpopmuoobccoxasfsksebxoxffdcxs    0.000000\n",
      "27                           channel_sales_unknown    0.000000\n",
      "29                                       has_gas_f    0.000000\n",
      "28  channel_sales_usilxuppasemubllopkaafesmlibmsdf    0.000000\n",
      "26  channel_sales_sddiedcslfslkckwlfkdpoeeailfpeds    0.000000\n",
      "23  channel_sales_fixdbufsefwooaasfcxdxadsiekoceaa    0.000000\n",
      "22  channel_sales_ewpakwlliwisiwduibdlfmalxowmwpci    0.000000\n",
      "21  channel_sales_epumfxlbckeskwekxbiuasklxalciiuu    0.000000\n",
      "37      origin_up_usapbepcfoloekilkwsdiboslwaxobdp    0.000000\n"
     ]
    }
   ],
   "source": [
    "# Check importance of features to figure out which are the most explicative\n",
    "# variables to churn.\n",
    "\n",
    "importances = rf.feature_importances_\n",
    "mean = np.mean([tree.feature_importances_ for tree in rf.estimators_],\n",
    "             axis=0)\n",
    "\n",
    "# indices = np.argsort(importances)[::-1]\n",
    "\n",
    "# Print the feature ranking\n",
    "print(\"Feature importance:\")\n",
    "print(\"\")\n",
    "\n",
    "X_train_lst = []\n",
    "for column in X_train:\n",
    "     X_train_lst.append(column)\n",
    "\n",
    "X_train_ser = pd.Series(X_train_lst)\n",
    "        \n",
    "# for i in range(len(X_train_lst)):\n",
    "#     print('Feature: ',X_train_lst[i],mean[i])\n",
    "\n",
    "feature_imp = pd.DataFrame(\n",
    "{'Feature':X_train_ser,\n",
    " 'Importance':mean})\n",
    "\n",
    "feature_imp.sort_values(by='Importance',inplace=True,ascending=False)\n",
    "print(feature_imp)\n",
    "\n",
    "# From the feature importance dataframe, we can predict the most\n",
    "# explicative features for the churning of customers according \n",
    "# to our model. "
   ]
  },
  {
   "cell_type": "code",
   "execution_count": 25,
   "metadata": {
    "collapsed": true
   },
   "outputs": [],
   "source": [
    "# The most important factor is \"margin_net_pow_ele\", i.e net\n",
    "# margin on power subscription for the customer. This is not\n",
    "# that surprising because it is likely that customers likely\n",
    "# to churn are customers who are being charged a higher price\n",
    "# and hence are likely to go ahead with cheaper alternatives.\n",
    "\n",
    "# The next most explicative factor, around 3 times less explicative\n",
    "# than the net margin, is \"margin_gross_pow_ele\", i.e. gross\n",
    "# margin on power subscription for the customer. This is further\n",
    "# support of the higher price resulting in customers opting\n",
    "# for cheapter alternatives.\n",
    "\n",
    "# Factors discussed in more detail in ppt."
   ]
  },
  {
   "cell_type": "code",
   "execution_count": 26,
   "metadata": {},
   "outputs": [
    {
     "name": "stdout",
     "output_type": "stream",
     "text": [
      "Fitting 5 folds for each of 5 candidates, totalling 25 fits\n"
     ]
    },
    {
     "name": "stderr",
     "output_type": "stream",
     "text": [
      "[Parallel(n_jobs=1)]: Done  25 out of  25 | elapsed:   42.2s finished\n"
     ]
    },
    {
     "name": "stdout",
     "output_type": "stream",
     "text": [
      "Fitting 5 folds for each of 5 candidates, totalling 25 fits\n"
     ]
    },
    {
     "name": "stderr",
     "output_type": "stream",
     "text": [
      "[Parallel(n_jobs=1)]: Done  25 out of  25 | elapsed:   41.7s finished\n"
     ]
    },
    {
     "name": "stdout",
     "output_type": "stream",
     "text": [
      "Fitting 5 folds for each of 5 candidates, totalling 25 fits\n"
     ]
    },
    {
     "name": "stderr",
     "output_type": "stream",
     "text": [
      "[Parallel(n_jobs=1)]: Done  25 out of  25 | elapsed:   42.1s finished\n"
     ]
    },
    {
     "name": "stdout",
     "output_type": "stream",
     "text": [
      "Fitting 5 folds for each of 5 candidates, totalling 25 fits\n"
     ]
    },
    {
     "name": "stderr",
     "output_type": "stream",
     "text": [
      "[Parallel(n_jobs=1)]: Done  25 out of  25 | elapsed:   41.4s finished\n"
     ]
    },
    {
     "name": "stdout",
     "output_type": "stream",
     "text": [
      "Fitting 5 folds for each of 5 candidates, totalling 25 fits\n"
     ]
    },
    {
     "name": "stderr",
     "output_type": "stream",
     "text": [
      "[Parallel(n_jobs=1)]: Done  25 out of  25 | elapsed:   48.2s finished\n"
     ]
    },
    {
     "name": "stdout",
     "output_type": "stream",
     "text": [
      "Fitting 5 folds for each of 5 candidates, totalling 25 fits\n"
     ]
    },
    {
     "name": "stderr",
     "output_type": "stream",
     "text": [
      "[Parallel(n_jobs=1)]: Done  25 out of  25 | elapsed:   51.3s finished\n"
     ]
    },
    {
     "name": "stdout",
     "output_type": "stream",
     "text": [
      "Fitting 5 folds for each of 5 candidates, totalling 25 fits\n"
     ]
    },
    {
     "name": "stderr",
     "output_type": "stream",
     "text": [
      "[Parallel(n_jobs=1)]: Done  25 out of  25 | elapsed:   52.7s finished\n"
     ]
    },
    {
     "name": "stdout",
     "output_type": "stream",
     "text": [
      "Fitting 5 folds for each of 5 candidates, totalling 25 fits\n"
     ]
    },
    {
     "name": "stderr",
     "output_type": "stream",
     "text": [
      "[Parallel(n_jobs=1)]: Done  25 out of  25 | elapsed:   51.2s finished\n"
     ]
    },
    {
     "name": "stdout",
     "output_type": "stream",
     "text": [
      "Fitting 5 folds for each of 5 candidates, totalling 25 fits\n"
     ]
    },
    {
     "name": "stderr",
     "output_type": "stream",
     "text": [
      "[Parallel(n_jobs=1)]: Done  25 out of  25 | elapsed:   51.1s finished\n"
     ]
    },
    {
     "name": "stdout",
     "output_type": "stream",
     "text": [
      "Fitting 5 folds for each of 5 candidates, totalling 25 fits\n"
     ]
    },
    {
     "name": "stderr",
     "output_type": "stream",
     "text": [
      "[Parallel(n_jobs=1)]: Done  25 out of  25 | elapsed:   55.4s finished\n"
     ]
    },
    {
     "name": "stdout",
     "output_type": "stream",
     "text": [
      "0.903392053437\n"
     ]
    }
   ],
   "source": [
    "# Conduct 10 fold cross validation to assess model\n",
    "\n",
    "vclf_scores = cross_val_score(allgrid, X_train, y_train, cv=10, scoring='accuracy')\n",
    "print(vclf_scores.mean())"
   ]
  },
  {
   "cell_type": "code",
   "execution_count": 27,
   "metadata": {
    "collapsed": true
   },
   "outputs": [],
   "source": [
    "# Predict churned customers based on voting classifier\n",
    "\n",
    "y_pred = allgrid.predict(X_test)\n",
    "\n",
    "y_pred_prob = allgrid.predict_proba(X_test)\n",
    "prob = y_pred_prob[:,1]\n",
    "\n",
    "indices_list = [i for i in range(len(y_pred))]\n",
    "\n",
    "prediction = pd.DataFrame(\n",
    "{'index': indices_list,\n",
    " 'id':X_test_id,\n",
    " 'Churn_prediction':y_pred,\n",
    " 'Churn_probability':prob})\n",
    "\n",
    "prediction = prediction[['index','id','Churn_prediction','Churn_probability']]\n",
    "\n",
    "prediction.to_csv('ML_case_predictions.csv',index=False)"
   ]
  },
  {
   "cell_type": "code",
   "execution_count": 28,
   "metadata": {},
   "outputs": [
    {
     "name": "stdout",
     "output_type": "stream",
     "text": [
      "      index                                id  Churn_prediction  \\\n",
      "40       40  0f644e4211eb1cb8b36a47900b624704                 1   \n",
      "256     256  73b1bd0e7e6c6b41b9f5892ff2541bfe                 1   \n",
      "1471   1471  b911acb75a072fd9fd50ab3f8a38b658                 1   \n",
      "1628   1628  af746cde31bc82e7262c592a85e0adf7                 1   \n",
      "1973   1973  7dd7456999d4ba2f4bb00ec099539ed5                 1   \n",
      "2206   2206  ec51f1eac2ba4e31d93f7ea8c8f2c2e8                 1   \n",
      "2673   2673  25ac33d516bc673cad5bdc234661bcda                 1   \n",
      "3449   3449  c52e685799c5ce920d2657aff7790177                 1   \n",
      "3490   3490  82b7f5395e6f4b6f6d0251014340e7b0                 1   \n",
      "3964   3964  ca2a33c56686f237b7e1d973c16d5631                 1   \n",
      "\n",
      "      Churn_probability  \n",
      "40             0.506892  \n",
      "256            0.510502  \n",
      "1471           0.544634  \n",
      "1628           0.773724  \n",
      "1973           0.623294  \n",
      "2206           0.748901  \n",
      "2673           0.752185  \n",
      "3449           0.579664  \n",
      "3490           0.552817  \n",
      "3964           0.588260  \n"
     ]
    }
   ],
   "source": [
    "# Finding a more explicit relation between sales channels and churn.\n",
    "# Start by creating a new dataframe for the 11 churned customers that\n",
    "# our model predicts.\n",
    "\n",
    "y_pred_ser = pd.Series(y_pred)\n",
    "churned_df = prediction[prediction['Churn_prediction']==1]\n",
    "print(churned_df)"
   ]
  },
  {
   "cell_type": "code",
   "execution_count": 29,
   "metadata": {},
   "outputs": [
    {
     "name": "stdout",
     "output_type": "stream",
     "text": [
      "10\n"
     ]
    }
   ],
   "source": [
    "# Get the indices of these customers and add them to a list so \n",
    "# that we can access it more easily for future steps.\n",
    "\n",
    "churned_index = churned_df[\"index\"].tolist()\n",
    "print(len(churned_index))"
   ]
  },
  {
   "cell_type": "code",
   "execution_count": 43,
   "metadata": {},
   "outputs": [
    {
     "name": "stdout",
     "output_type": "stream",
     "text": [
      "Probability of sales channels for churned customers:\n",
      "\n",
      "foosdfpfkusacimwkcsosbicdxkicaua    0.9\n",
      "ewpakwlliwisiwduibdlfmalxowmwpci    0.1\n",
      "Name: channel_sales, dtype: float64\n"
     ]
    }
   ],
   "source": [
    "# Get the sales channels that these churned customers belong to.\n",
    "\n",
    "churned_channels = data2['channel_sales'].iloc[churned_index]\n",
    "\n",
    "print(\"Probability of sales channels for churned customers:\")\n",
    "print(\"\")\n",
    "print(churned_channels.value_counts()/len(churned_index))\n",
    "\n",
    "# We notice that there are only 3 types of sales channels within\n",
    "# the 11 customers that our churning according to our model. Of\n",
    "# these, 9 customers are using \"foosdfpfkusacimwkcsosbicdxkicaua\"\n",
    "# channel, 1 is using \"ewpakwlliwisiwduibdlfmalxowmwpci\" channel,\n",
    "# and 1 is unknown."
   ]
  },
  {
   "cell_type": "code",
   "execution_count": 47,
   "metadata": {},
   "outputs": [
    {
     "name": "stdout",
     "output_type": "stream",
     "text": [
      "Date of activation of current contract:\n",
      "\n",
      "40      2012-02-21\n",
      "256     2012-02-04\n",
      "1471    2013-03-22\n",
      "1628    2010-05-07\n",
      "1973    2011-10-28\n",
      "2206    2013-04-09\n",
      "2673    2010-05-07\n",
      "3449    2012-02-04\n",
      "3490    2013-03-22\n",
      "3964    2013-03-25\n",
      "Name: date_activ, dtype: object\n",
      "\n",
      "Last month's consumption as a percentage of 12 month consumption:\n",
      "\n",
      "40       7.901796\n",
      "256      0.000000\n",
      "1471     2.531588\n",
      "1628   -13.047361\n",
      "1973     0.000000\n",
      "2206     0.000000\n",
      "2673   -13.047361\n",
      "3449     0.000000\n",
      "3490     2.531588\n",
      "3964     2.531588\n",
      "dtype: float64\n",
      "\n",
      "12 month consumption for churned customers:\n",
      "\n",
      "40      342593\n",
      "256      54072\n",
      "1471    154251\n",
      "1628     86232\n",
      "1973     53819\n",
      "2206     48667\n",
      "2673     86232\n",
      "3449     54072\n",
      "3490    154251\n",
      "3964    154251\n",
      "Name: cons_12m, dtype: int64\n",
      "\n",
      "Forecasted 12 month consumption for churned customers:\n",
      "\n",
      "40      1169.39\n",
      "256      326.69\n",
      "1471    1333.69\n",
      "1628     302.46\n",
      "1973     251.04\n",
      "2206     273.93\n",
      "2673     317.18\n",
      "3449     292.13\n",
      "3490    1160.26\n",
      "3964       0.00\n",
      "Name: forecast_cons_12m, dtype: float64\n",
      "\n",
      "Percentage difference:\n",
      "\n",
      "40      -99.658665\n",
      "256     -99.395824\n",
      "1471    -99.135377\n",
      "1628    -99.649249\n",
      "1973    -99.533548\n",
      "2206    -99.437134\n",
      "2673    -99.632178\n",
      "3449    -99.459739\n",
      "3490    -99.247810\n",
      "3964   -100.000000\n",
      "Name: percentage_diff, dtype: float64\n",
      "\n"
     ]
    }
   ],
   "source": [
    "# We can use the forecast_cons_12m column to see whether\n",
    "# the customers predicted to churn are actually forecasted\n",
    "# to have a lower consumption for the same time period as\n",
    "# the one trained on.\n",
    "\n",
    "test_data = pd.read_csv('ml_case_test_data.csv')\n",
    "\n",
    "# Check date of activation of current contract of churned customers\n",
    "churned_elc_cons=test_data['date_activ'].iloc[churned_index]\n",
    "print(\"Date of activation of current contract:\")\n",
    "print(\"\")\n",
    "print(churned_elc_cons)\n",
    "print(\"\")\n",
    "\n",
    "# Get last month's electricty consumption as a percentage of total 12\n",
    "# month consumption of churned customers\n",
    "churned_elc_cons=(test_data['cons_last_month']*100/test_data['cons_12m']).iloc[churned_index]\n",
    "print(\"Last month's consumption as a percentage of 12 month consumption:\")\n",
    "print(\"\")\n",
    "print(churned_elc_cons)\n",
    "print(\"\")\n",
    "\n",
    "\n",
    "# Get past 12 months consumption of churned customers\n",
    "churned_elc_cons=test_data['cons_12m'].iloc[churned_index]\n",
    "print(\"12 month consumption for churned customers:\")\n",
    "print(\"\")\n",
    "print(churned_elc_cons)\n",
    "print(\"\")\n",
    "\n",
    "# Get forecasted 12 months consumption of churned customers\n",
    "churned_forecast_cons=test_data['forecast_cons_12m'].iloc[churned_index]\n",
    "print(\"Forecasted 12 month consumption for churned customers:\")\n",
    "print(\"\")\n",
    "print(churned_forecast_cons)\n",
    "print(\"\")\n",
    "\n",
    "# Create a new column with the percentage\n",
    "test_data['percentage_diff']=(churned_forecast_cons-churned_elc_cons)*100/churned_elc_cons\n",
    "print(\"Percentage difference:\")\n",
    "print(\"\")\n",
    "print(test_data['percentage_diff'].iloc[churned_index])\n",
    "print(\"\")\n",
    "\n",
    "test_data=test_data.drop(['percentage_diff'],axis=1)\n",
    "\n",
    "# As can be seen the forecasted consumption is considerably lower\n",
    "# than the current consumption for all these customers. Hence,\n",
    "# the model's forecast is in accordance to the company's."
   ]
  },
  {
   "cell_type": "code",
   "execution_count": 32,
   "metadata": {
    "collapsed": true
   },
   "outputs": [],
   "source": [
    "# Lets see what the overall profit for the company is without the churners.\n",
    "# To get the overall profit we want to sum the product of net margin and\n",
    "# revenue for each customer. First we need to find the revenue for each\n",
    "# customer.\n",
    "\n",
    "# To get the revenue, I am going to make a few assumptions:\n",
    "# a.   the three price periods refer to the three 8 hr time periods in a day\n",
    "# b.   a price of 0 in any of these rows implies 0 consumption at that time\n",
    "# c.   price_p1_var, price_p2_var, price_p3_var are variable prices in cents\n",
    "#      that depend on quantity of electricity consumed. \n",
    "# d.   consumption is equal in each time period that has a positive\n",
    "#      consumption\n",
    "# e.   price_p1_fix, price_p2_fix, price_p3_fix are fixed prices in cents \n",
    "#      for an entire month that the customer pays daily\n",
    "\n",
    "# With all these assumptions in place, I am going to begin by\n",
    "# getting the average of the mean variable price for 12 months\n",
    "# and the average\n",
    "\n",
    "price_data = pd.read_csv('ml_case_test_hist_data.csv')\n",
    "\n",
    "count1 = []\n",
    "price_data['price_p1_var'].fillna(0,inplace=True)\n",
    "for i in price_data['price_p1_var'].iteritems():\n",
    "    if i[1]!=0:\n",
    "        count1.append(1)\n",
    "    else:\n",
    "        count1.append(0)\n",
    "\n",
    "count2=[]\n",
    "price_data['price_p2_var'].fillna(0,inplace=True)\n",
    "for i in price_data['price_p2_var'].iteritems():\n",
    "    if i[1]!=0:\n",
    "        count2.append(1)\n",
    "    else:\n",
    "        count2.append(0)\n",
    "\n",
    "count3=[]\n",
    "price_data['price_p3_var'].fillna(0,inplace=True)\n",
    "for i in price_data['price_p3_var'].iteritems():\n",
    "    if i[1]!=0:\n",
    "        count3.append(1)\n",
    "    else:\n",
    "        count3.append(0)\n",
    "\n",
    "count=[]\n",
    "for i in range(len(count1)):\n",
    "    count.append(count1[i]+count2[i]+count3[i])\n",
    "\n",
    "price_data['count']=count\n",
    "\n",
    "# Create new columns for the average variable price and the \n",
    "# total fixed price for each price date\n",
    "\n",
    "price_data['avg_price_var']=(price_data['price_p1_var']+price_data['price_p2_var']+price_data['price_p3_var'])/price_data['count']\n",
    "price_data['sum_price_fix']=30*(price_data['price_p1_fix']+price_data['price_p2_fix']+price_data['price_p3_fix'])\n",
    "\n",
    "price_data=price_data.drop(['count'],axis=1)"
   ]
  },
  {
   "cell_type": "code",
   "execution_count": 33,
   "metadata": {
    "collapsed": true
   },
   "outputs": [],
   "source": [
    "# Group by customer id and get the average 12 month prices for\n",
    "# the variable price and the total sum 12 month prices for the \n",
    "# fixed prices\n",
    "\n",
    "id_=[]\n",
    "for i in price_data['id'].iteritems():\n",
    "    if i[1] in id_:\n",
    "        pass\n",
    "    else:\n",
    "        id_.append(i[1])\n",
    "\n",
    "avg_var_12m=price_data.groupby('id',sort=False)['avg_price_var'].mean()\n",
    "sum_fix_12m=price_data.groupby('id',sort=False)['sum_price_fix'].sum()\n",
    "\n",
    "temp_data = pd.DataFrame(\n",
    "  {'id':id_,\n",
    "   'avg_var_12m':avg_var_12m,\n",
    "   'fix_12m':sum_fix_12m})\n",
    "\n",
    "temp_data=temp_data[['id','avg_var_12m','fix_12m']]"
   ]
  },
  {
   "cell_type": "code",
   "execution_count": 46,
   "metadata": {},
   "outputs": [
    {
     "name": "stdout",
     "output_type": "stream",
     "text": [
      "Profit loss from churning customers:\n",
      "$ 105100.70968491897\n",
      "\n",
      "Profit recovered from churning customers with 20% discount:\n",
      "$ 84080.56774793519\n"
     ]
    }
   ],
   "source": [
    "# Merge the pricing dataframe with the test dataframe to order\n",
    "# the prices appropriately according to the customer id's\n",
    "\n",
    "test_data = pd.merge(test_data,temp_data,on='id')\n",
    "\n",
    "test_data['revenue']=test_data['avg_var_12m']*test_data['cons_12m']+test_data['fix_12m']\n",
    "test_data['profit']=test_data['revenue']*test_data['margin_net_pow_ele']\n",
    "\n",
    "churned_net_mar = test_data['margin_net_pow_ele'].iloc[churned_index]\n",
    "\n",
    "# Amount of profit lost from churned customers, divided by 100\n",
    "# to convert from cents to dollars.\n",
    "\n",
    "churned_profit = test_data['profit'].iloc[churned_index]\n",
    "print(\"Profit loss from churning customers:\")\n",
    "print('$',churned_profit.sum()/100)\n",
    "print(\"\")\n",
    "\n",
    "# Increase in profit if we offer 20% discount to customers\n",
    "# predicted to churn, divided by 100 to convert from cents\n",
    "# to dollars.\n",
    "\n",
    "disc_churned_profit=churned_profit*0.8\n",
    "print(\"Profit recovered from churning customers with 20% discount:\")\n",
    "print('$',disc_churned_profit.sum()/100)"
   ]
  },
  {
   "cell_type": "code",
   "execution_count": null,
   "metadata": {
    "collapsed": true
   },
   "outputs": [],
   "source": []
  }
 ],
 "metadata": {
  "kernelspec": {
   "display_name": "Python 3",
   "language": "python",
   "name": "python3"
  },
  "language_info": {
   "codemirror_mode": {
    "name": "ipython",
    "version": 3
   },
   "file_extension": ".py",
   "mimetype": "text/x-python",
   "name": "python",
   "nbconvert_exporter": "python",
   "pygments_lexer": "ipython3",
   "version": "3.6.1"
  }
 },
 "nbformat": 4,
 "nbformat_minor": 2
}
