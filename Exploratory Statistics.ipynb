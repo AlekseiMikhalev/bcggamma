{
 "cells": [
  {
   "cell_type": "code",
   "execution_count": 3,
   "metadata": {
    "collapsed": true
   },
   "outputs": [],
   "source": [
    "import pandas as pd\n",
    "import numpy as np\n",
    "import matplotlib.pyplot as plt\n",
    "import datetime"
   ]
  },
  {
   "cell_type": "code",
   "execution_count": 4,
   "metadata": {
    "collapsed": true
   },
   "outputs": [],
   "source": [
    "data1 = pd.read_csv(\"ml_case_training_data.csv\")"
   ]
  },
  {
   "cell_type": "code",
   "execution_count": 5,
   "metadata": {},
   "outputs": [
    {
     "name": "stdout",
     "output_type": "stream",
     "text": [
      "16096\n"
     ]
    }
   ],
   "source": [
    "# count number of customers by counting unique ids\n",
    "customers = data1['id'].value_counts()\n",
    "num_unq_customers = len(customers)\n",
    "print(num_unq_customers)"
   ]
  },
  {
   "cell_type": "code",
   "execution_count": 6,
   "metadata": {},
   "outputs": [
    {
     "name": "stdout",
     "output_type": "stream",
     "text": [
      "1\n"
     ]
    }
   ],
   "source": [
    "# Since length of dataframe = length of unique customers, we can infer that each customer id exists only once\n",
    "# in the dataframe. We can check this further by getting the max of customers, which has the counts of each id.\n",
    "# If max(customers) = 1, we have ascertained that each customer has one entry in the dataset.\n",
    "\n",
    "print(max(customers))"
   ]
  },
  {
   "cell_type": "code",
   "execution_count": 7,
   "metadata": {
    "collapsed": true
   },
   "outputs": [],
   "source": [
    "data1[\"total_cons_12m\"]=data1[\"cons_12m\"]+data1[\"cons_gas_12m\"]\n",
    "total_cons_12m = data1[\"total_cons_12m\"]\n",
    "elc_cons_12m = data1[\"cons_12m\"]\n",
    "gas_cons_12m = data1[\"cons_gas_12m\"]"
   ]
  },
  {
   "cell_type": "code",
   "execution_count": 8,
   "metadata": {},
   "outputs": [
    {
     "name": "stdout",
     "output_type": "stream",
     "text": [
      "0        309275\n",
      "1             0\n",
      "2          4660\n",
      "3           544\n",
      "4          1584\n",
      "5        121335\n",
      "6          4425\n",
      "7          8302\n",
      "8         45097\n",
      "9         29552\n",
      "10         2962\n",
      "11        26064\n",
      "12        10831\n",
      "13         4442\n",
      "14        46121\n",
      "15         7726\n",
      "16        55084\n",
      "17         9707\n",
      "18        47019\n",
      "19       786536\n",
      "20        30776\n",
      "21        24838\n",
      "22        15411\n",
      "23        16782\n",
      "24        26987\n",
      "25        20560\n",
      "26        21097\n",
      "27        12157\n",
      "28        13122\n",
      "29         3584\n",
      "          ...  \n",
      "16066      9054\n",
      "16067     45695\n",
      "16068    156962\n",
      "16069      9976\n",
      "16070     21416\n",
      "16071      9935\n",
      "16072      5015\n",
      "16073     24081\n",
      "16074      1185\n",
      "16075    854703\n",
      "16076      2013\n",
      "16077      5286\n",
      "16078     12691\n",
      "16079     16525\n",
      "16080      3944\n",
      "16081     15226\n",
      "16082      3909\n",
      "16083      6694\n",
      "16084     11563\n",
      "16085    418652\n",
      "16086      1097\n",
      "16087      8310\n",
      "16088      9441\n",
      "16089     18163\n",
      "16090     87146\n",
      "16091     32270\n",
      "16092      7223\n",
      "16093      1844\n",
      "16094       131\n",
      "16095      8730\n",
      "Name: cons_12m, Length: 16096, dtype: int64\n"
     ]
    }
   ],
   "source": [
    "print(elc_cons_12m)"
   ]
  },
  {
   "cell_type": "code",
   "execution_count": 9,
   "metadata": {},
   "outputs": [
    {
     "name": "stdout",
     "output_type": "stream",
     "text": [
      "0              0\n",
      "1          54946\n",
      "2              0\n",
      "3              0\n",
      "4              0\n",
      "5              0\n",
      "6              0\n",
      "7              0\n",
      "8              0\n",
      "9              0\n",
      "10             0\n",
      "11             0\n",
      "12             0\n",
      "13             0\n",
      "14       1542867\n",
      "15             0\n",
      "16             0\n",
      "17             0\n",
      "18             0\n",
      "19         80583\n",
      "20             0\n",
      "21             0\n",
      "22             0\n",
      "23             0\n",
      "24             0\n",
      "25             0\n",
      "26             0\n",
      "27             0\n",
      "28             0\n",
      "29             0\n",
      "          ...   \n",
      "16066     158093\n",
      "16067          0\n",
      "16068          0\n",
      "16069          0\n",
      "16070          0\n",
      "16071          0\n",
      "16072          0\n",
      "16073          0\n",
      "16074          0\n",
      "16075      73247\n",
      "16076          0\n",
      "16077          0\n",
      "16078       2126\n",
      "16079          0\n",
      "16080          0\n",
      "16081          0\n",
      "16082          0\n",
      "16083          0\n",
      "16084          0\n",
      "16085          0\n",
      "16086          0\n",
      "16087          0\n",
      "16088          0\n",
      "16089       3036\n",
      "16090          0\n",
      "16091      47940\n",
      "16092          0\n",
      "16093          0\n",
      "16094          0\n",
      "16095          0\n",
      "Name: cons_gas_12m, Length: 16096, dtype: int64\n"
     ]
    }
   ],
   "source": [
    "print(gas_cons_12m)"
   ]
  },
  {
   "cell_type": "code",
   "execution_count": 10,
   "metadata": {},
   "outputs": [
    {
     "name": "stdout",
     "output_type": "stream",
     "text": [
      "0         309275\n",
      "1          54946\n",
      "2           4660\n",
      "3            544\n",
      "4           1584\n",
      "5         121335\n",
      "6           4425\n",
      "7           8302\n",
      "8          45097\n",
      "9          29552\n",
      "10          2962\n",
      "11         26064\n",
      "12         10831\n",
      "13          4442\n",
      "14       1588988\n",
      "15          7726\n",
      "16         55084\n",
      "17          9707\n",
      "18         47019\n",
      "19        867119\n",
      "20         30776\n",
      "21         24838\n",
      "22         15411\n",
      "23         16782\n",
      "24         26987\n",
      "25         20560\n",
      "26         21097\n",
      "27         12157\n",
      "28         13122\n",
      "29          3584\n",
      "          ...   \n",
      "16066     167147\n",
      "16067      45695\n",
      "16068     156962\n",
      "16069       9976\n",
      "16070      21416\n",
      "16071       9935\n",
      "16072       5015\n",
      "16073      24081\n",
      "16074       1185\n",
      "16075     927950\n",
      "16076       2013\n",
      "16077       5286\n",
      "16078      14817\n",
      "16079      16525\n",
      "16080       3944\n",
      "16081      15226\n",
      "16082       3909\n",
      "16083       6694\n",
      "16084      11563\n",
      "16085     418652\n",
      "16086       1097\n",
      "16087       8310\n",
      "16088       9441\n",
      "16089      21199\n",
      "16090      87146\n",
      "16091      80210\n",
      "16092       7223\n",
      "16093       1844\n",
      "16094        131\n",
      "16095       8730\n",
      "Name: total_cons_12m, Length: 16096, dtype: int64\n"
     ]
    }
   ],
   "source": [
    "print(total_cons_12m)"
   ]
  },
  {
   "cell_type": "code",
   "execution_count": 11,
   "metadata": {},
   "outputs": [
    {
     "name": "stdout",
     "output_type": "stream",
     "text": [
      "500.0\n",
      "0        180.000\n",
      "1         43.648\n",
      "2         13.800\n",
      "3         13.856\n",
      "4         13.200\n",
      "5         75.000\n",
      "6         19.800\n",
      "7         13.200\n",
      "8         15.000\n",
      "9         26.400\n",
      "10        13.200\n",
      "11        31.500\n",
      "12        11.500\n",
      "13        10.392\n",
      "14        16.500\n",
      "15        13.200\n",
      "16        10.000\n",
      "17        13.856\n",
      "18        10.392\n",
      "19        11.400\n",
      "20        25.000\n",
      "21        15.001\n",
      "22        13.000\n",
      "23        19.800\n",
      "24        35.000\n",
      "25        11.000\n",
      "26        17.321\n",
      "27        10.392\n",
      "28        13.200\n",
      "29        23.100\n",
      "          ...   \n",
      "16066     11.400\n",
      "16067     48.078\n",
      "16068    177.000\n",
      "16069     13.856\n",
      "16070     13.200\n",
      "16071     27.700\n",
      "16072     12.500\n",
      "16073     10.520\n",
      "16074     13.200\n",
      "16075     15.001\n",
      "16076     10.392\n",
      "16077     13.200\n",
      "16078     13.200\n",
      "16079     11.600\n",
      "16080     13.856\n",
      "16081     10.392\n",
      "16082     13.856\n",
      "16083     13.856\n",
      "16084     13.856\n",
      "16085    346.000\n",
      "16086     10.392\n",
      "16087     23.100\n",
      "16088     15.001\n",
      "16089     13.856\n",
      "16090     26.400\n",
      "16091     15.000\n",
      "16092      6.000\n",
      "16093     15.935\n",
      "16094     11.000\n",
      "16095     10.392\n",
      "Name: pow_max, Length: 16096, dtype: float64\n"
     ]
    }
   ],
   "source": [
    "sub_power = data1[\"pow_max\"]\n",
    "print(max(sub_power))\n",
    "print(sub_power)"
   ]
  },
  {
   "cell_type": "code",
   "execution_count": 12,
   "metadata": {},
   "outputs": [
    {
     "data": {
      "image/png": "[encoded data removed]",
      "text/plain": [
       "<matplotlib.figure.Figure at 0x11159eef0>"
      ]
     },
     "metadata": {},
     "output_type": "display_data"
    },
    {
     "name": "stdout",
     "output_type": "stream",
     "text": [
      "0.10242255835\n",
      "0.282451956033\n"
     ]
    }
   ],
   "source": [
    "# Correlation between subscribed power and total consumption using three different correlation methods\n",
    "\n",
    "# corr_data = pd.DataFrame(\n",
    "# {'elc_cons_12m': elc_cons_12m,\n",
    "# 'sub_power': sub_power})\n",
    "\n",
    "plt.scatter(sub_power,elc_cons_12m,c=\"blue\")\n",
    "plt.show()\n",
    "\n",
    "# plt.show(pd.scatter_matrix(corr_data,figsize=(10,10),diagonal=\"hist\"))\n",
    "\n",
    "# Pearson correlation\n",
    "pearson_corr=elc_cons_12m.corr(sub_power,method='pearson')\n",
    "print(pearson_corr)\n",
    "\n",
    "# Kendall correlation \n",
    "kendall_corr=elc_cons_12m.corr(sub_power,method='kendall')\n",
    "print(kendall_corr)\n",
    "\n",
    "# This implies that there is a weak positive correlation between the electricity consumption and subscribed power"
   ]
  },
  {
   "cell_type": "code",
   "execution_count": null,
   "metadata": {
    "collapsed": true
   },
   "outputs": [],
   "source": []
  }
 ],
 "metadata": {
  "kernelspec": {
   "display_name": "Python 3",
   "language": "python",
   "name": "python3"
  },
  "language_info": {
   "codemirror_mode": {
    "name": "ipython",
    "version": 3
   },
   "file_extension": ".py",
   "mimetype": "text/x-python",
   "name": "python",
   "nbconvert_exporter": "python",
   "pygments_lexer": "ipython3",
   "version": "3.6.1"
  }
 },
 "nbformat": 4,
 "nbformat_minor": 2
}
